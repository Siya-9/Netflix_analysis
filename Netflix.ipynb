{
 "cells": [
  {
   "cell_type": "markdown",
   "id": "e1050834",
   "metadata": {},
   "source": [
    "# NETFLIX ANALYSIS\n",
    "\n",
    "This is an analysis on the OTT platform, Netflix. The dataset is obtained from the Waggle. In this analysis, we look into few of the aspects of the dataset and derive our inferences."
   ]
  },
  {
   "cell_type": "code",
   "execution_count": 18,
   "id": "0e0965dd",
   "metadata": {},
   "outputs": [],
   "source": [
    "import pandas as pd\n",
    "import matplotlib.pyplot as plt\n",
    "import time\n",
    "import kaggle"
   ]
  },
  {
   "cell_type": "markdown",
   "id": "41d1d52a",
   "metadata": {},
   "source": [
    "First, we get our dataset. Here, I have taken a Kaggle dataset of Netflix"
   ]
  },
  {
   "cell_type": "code",
   "execution_count": 14,
   "id": "0d07b039",
   "metadata": {},
   "outputs": [
    {
     "name": "stdout",
     "output_type": "stream",
     "text": [
      "Downloading netflix-shows.zip to C:\\data_analytics\n",
      "\n"
     ]
    },
    {
     "name": "stderr",
     "output_type": "stream",
     "text": [
      "\n",
      "  0%|          | 0.00/1.34M [00:00<?, ?B/s]\n",
      " 75%|#######4  | 1.00M/1.34M [00:01<00:00, 722kB/s]\n",
      "100%|##########| 1.34M/1.34M [00:01<00:00, 909kB/s]\n"
     ]
    }
   ],
   "source": [
    "!kaggle datasets download -d shivamb/netflix-shows"
   ]
  },
  {
   "cell_type": "code",
   "execution_count": 15,
   "id": "cfe41bea",
   "metadata": {},
   "outputs": [],
   "source": [
    "#Converting to da\n",
    "data=pd.read_csv(r\"netflix-shows\\netflix_titles.csv\")"
   ]
  },
  {
   "cell_type": "markdown",
   "id": "b3e474af",
   "metadata": {},
   "source": [
    "After getting the dataset as a dataframe, "
   ]
  },
  {
   "cell_type": "code",
   "execution_count": 16,
   "id": "2da668a9",
   "metadata": {},
   "outputs": [],
   "source": [
    "#Checking for duplicates and dropping them if present\n",
    "data[data.duplicated()]\n",
    "data.drop_duplicates(inplace=True)"
   ]
  },
  {
   "cell_type": "code",
   "execution_count": 6,
   "id": "af8a85ee",
   "metadata": {},
   "outputs": [
    {
     "data": {
      "text/plain": [
       "(8807, 12)"
      ]
     },
     "execution_count": 6,
     "metadata": {},
     "output_type": "execute_result"
    }
   ],
   "source": [
    "#Checking the size of the database\n",
    "data.shape"
   ]
  },
  {
   "cell_type": "markdown",
   "id": "5f7f8e18",
   "metadata": {},
   "source": [
    "We now check for inaccurate data types and missing values. We check data types of all columns and change the type if they're inaccurate. Missing values are replaced by appropriate values"
   ]
  },
  {
   "cell_type": "code",
   "execution_count": 9,
   "id": "af8c9f89",
   "metadata": {},
   "outputs": [],
   "source": [
    "#Checking inaccurate data types\n",
    "data.dtypes\n",
    "data['date_added']=pd.to_datetime(data['date_added'])"
   ]
  },
  {
   "cell_type": "code",
   "execution_count": 8,
   "id": "3f534f2f",
   "metadata": {},
   "outputs": [],
   "source": [
    "# Checking missing values\n",
    "data.isna().sum()\n",
    "data.fillna({'cast':'Unavailable'}, inplace=True)"
   ]
  },
  {
   "cell_type": "markdown",
   "id": "cc6e9c06",
   "metadata": {},
   "source": [
    "We look at how old the records are, and find the records date back to the year 1925. We would like to work on much recent data and hence, try to work on the year 2000 onwards."
   ]
  },
  {
   "cell_type": "code",
   "execution_count": 10,
   "id": "cba9de86",
   "metadata": {},
   "outputs": [
    {
     "name": "stdout",
     "output_type": "stream",
     "text": [
      "Oldest record:  1925\n",
      "Latest record:  2021\n"
     ]
    }
   ],
   "source": [
    "print(\"Oldest record: \", data['release_year'].min())\n",
    "print(\"Latest record: \", data['release_year'].max())\n",
    "\n",
    "#We can see that the database contains records from the year 1925 to the year 2021\n",
    "#Dropping the old records\n",
    "data.drop(data[data['release_year']<2000].index, inplace=True)"
   ]
  },
  {
   "cell_type": "code",
   "execution_count": 11,
   "id": "261677de",
   "metadata": {},
   "outputs": [
    {
     "data": {
      "text/plain": [
       "(8282, 12)"
      ]
     },
     "execution_count": 11,
     "metadata": {},
     "output_type": "execute_result"
    }
   ],
   "source": [
    "#The size of altered database\n",
    "data.shape"
   ]
  },
  {
   "cell_type": "markdown",
   "id": "ed20b51a",
   "metadata": {},
   "source": [
    "Q1] List the latest 10 movies and tv shows released on Netflix."
   ]
  },
  {
   "cell_type": "code",
   "execution_count": 283,
   "id": "c44a8ec2",
   "metadata": {},
   "outputs": [
    {
     "data": {
      "text/html": [
       "<div>\n",
       "<style scoped>\n",
       "    .dataframe tbody tr th:only-of-type {\n",
       "        vertical-align: middle;\n",
       "    }\n",
       "\n",
       "    .dataframe tbody tr th {\n",
       "        vertical-align: top;\n",
       "    }\n",
       "\n",
       "    .dataframe thead th {\n",
       "        text-align: right;\n",
       "    }\n",
       "</style>\n",
       "<table border=\"1\" class=\"dataframe\">\n",
       "  <thead>\n",
       "    <tr style=\"text-align: right;\">\n",
       "      <th></th>\n",
       "      <th>show_id</th>\n",
       "      <th>type</th>\n",
       "      <th>title</th>\n",
       "      <th>director</th>\n",
       "      <th>cast</th>\n",
       "      <th>country</th>\n",
       "      <th>date_added</th>\n",
       "      <th>release_year</th>\n",
       "      <th>rating</th>\n",
       "      <th>duration</th>\n",
       "      <th>listed_in</th>\n",
       "      <th>description</th>\n",
       "    </tr>\n",
       "  </thead>\n",
       "  <tbody>\n",
       "    <tr>\n",
       "      <th>0</th>\n",
       "      <td>s1</td>\n",
       "      <td>Movie</td>\n",
       "      <td>Dick Johnson Is Dead</td>\n",
       "      <td>Kirsten Johnson</td>\n",
       "      <td>Unavailable</td>\n",
       "      <td>United States</td>\n",
       "      <td>2021-09-25</td>\n",
       "      <td>2020</td>\n",
       "      <td>PG-13</td>\n",
       "      <td>90 min</td>\n",
       "      <td>Documentaries</td>\n",
       "      <td>As her father nears the end of his life, filmm...</td>\n",
       "    </tr>\n",
       "    <tr>\n",
       "      <th>6</th>\n",
       "      <td>s7</td>\n",
       "      <td>Movie</td>\n",
       "      <td>My Little Pony: A New Generation</td>\n",
       "      <td>Robert Cullen, José Luis Ucha</td>\n",
       "      <td>Vanessa Hudgens, Kimiko Glenn, James Marsden, ...</td>\n",
       "      <td>NaN</td>\n",
       "      <td>2021-09-24</td>\n",
       "      <td>2021</td>\n",
       "      <td>PG</td>\n",
       "      <td>91 min</td>\n",
       "      <td>Children &amp; Family Movies</td>\n",
       "      <td>Equestria's divided. But a bright-eyed hero be...</td>\n",
       "    </tr>\n",
       "    <tr>\n",
       "      <th>10</th>\n",
       "      <td>s11</td>\n",
       "      <td>TV Show</td>\n",
       "      <td>Vendetta: Truth, Lies and The Mafia</td>\n",
       "      <td>NaN</td>\n",
       "      <td>Unavailable</td>\n",
       "      <td>NaN</td>\n",
       "      <td>2021-09-24</td>\n",
       "      <td>2021</td>\n",
       "      <td>TV-MA</td>\n",
       "      <td>1 Season</td>\n",
       "      <td>Crime TV Shows, Docuseries, International TV S...</td>\n",
       "      <td>Sicily boasts a bold \"Anti-Mafia\" coalition. B...</td>\n",
       "    </tr>\n",
       "    <tr>\n",
       "      <th>9</th>\n",
       "      <td>s10</td>\n",
       "      <td>Movie</td>\n",
       "      <td>The Starling</td>\n",
       "      <td>Theodore Melfi</td>\n",
       "      <td>Melissa McCarthy, Chris O'Dowd, Kevin Kline, T...</td>\n",
       "      <td>United States</td>\n",
       "      <td>2021-09-24</td>\n",
       "      <td>2021</td>\n",
       "      <td>PG-13</td>\n",
       "      <td>104 min</td>\n",
       "      <td>Comedies, Dramas</td>\n",
       "      <td>A woman adjusting to life after a loss contend...</td>\n",
       "    </tr>\n",
       "    <tr>\n",
       "      <th>8</th>\n",
       "      <td>s9</td>\n",
       "      <td>TV Show</td>\n",
       "      <td>The Great British Baking Show</td>\n",
       "      <td>Andy Devonshire</td>\n",
       "      <td>Mel Giedroyc, Sue Perkins, Mary Berry, Paul Ho...</td>\n",
       "      <td>United Kingdom</td>\n",
       "      <td>2021-09-24</td>\n",
       "      <td>2021</td>\n",
       "      <td>TV-14</td>\n",
       "      <td>9 Seasons</td>\n",
       "      <td>British TV Shows, Reality TV</td>\n",
       "      <td>A talented batch of amateur bakers face off in...</td>\n",
       "    </tr>\n",
       "    <tr>\n",
       "      <th>1</th>\n",
       "      <td>s2</td>\n",
       "      <td>TV Show</td>\n",
       "      <td>Blood &amp; Water</td>\n",
       "      <td>NaN</td>\n",
       "      <td>Ama Qamata, Khosi Ngema, Gail Mabalane, Thaban...</td>\n",
       "      <td>South Africa</td>\n",
       "      <td>2021-09-24</td>\n",
       "      <td>2021</td>\n",
       "      <td>TV-MA</td>\n",
       "      <td>2 Seasons</td>\n",
       "      <td>International TV Shows, TV Dramas, TV Mysteries</td>\n",
       "      <td>After crossing paths at a party, a Cape Town t...</td>\n",
       "    </tr>\n",
       "    <tr>\n",
       "      <th>5</th>\n",
       "      <td>s6</td>\n",
       "      <td>TV Show</td>\n",
       "      <td>Midnight Mass</td>\n",
       "      <td>Mike Flanagan</td>\n",
       "      <td>Kate Siegel, Zach Gilford, Hamish Linklater, H...</td>\n",
       "      <td>NaN</td>\n",
       "      <td>2021-09-24</td>\n",
       "      <td>2021</td>\n",
       "      <td>TV-MA</td>\n",
       "      <td>1 Season</td>\n",
       "      <td>TV Dramas, TV Horror, TV Mysteries</td>\n",
       "      <td>The arrival of a charismatic young priest brin...</td>\n",
       "    </tr>\n",
       "    <tr>\n",
       "      <th>2</th>\n",
       "      <td>s3</td>\n",
       "      <td>TV Show</td>\n",
       "      <td>Ganglands</td>\n",
       "      <td>Julien Leclercq</td>\n",
       "      <td>Sami Bouajila, Tracy Gotoas, Samuel Jouy, Nabi...</td>\n",
       "      <td>NaN</td>\n",
       "      <td>2021-09-24</td>\n",
       "      <td>2021</td>\n",
       "      <td>TV-MA</td>\n",
       "      <td>1 Season</td>\n",
       "      <td>Crime TV Shows, International TV Shows, TV Act...</td>\n",
       "      <td>To protect his family from a powerful drug lor...</td>\n",
       "    </tr>\n",
       "    <tr>\n",
       "      <th>4</th>\n",
       "      <td>s5</td>\n",
       "      <td>TV Show</td>\n",
       "      <td>Kota Factory</td>\n",
       "      <td>NaN</td>\n",
       "      <td>Mayur More, Jitendra Kumar, Ranjan Raj, Alam K...</td>\n",
       "      <td>India</td>\n",
       "      <td>2021-09-24</td>\n",
       "      <td>2021</td>\n",
       "      <td>TV-MA</td>\n",
       "      <td>2 Seasons</td>\n",
       "      <td>International TV Shows, Romantic TV Shows, TV ...</td>\n",
       "      <td>In a city of coaching centers known to train I...</td>\n",
       "    </tr>\n",
       "    <tr>\n",
       "      <th>3</th>\n",
       "      <td>s4</td>\n",
       "      <td>TV Show</td>\n",
       "      <td>Jailbirds New Orleans</td>\n",
       "      <td>NaN</td>\n",
       "      <td>Unavailable</td>\n",
       "      <td>NaN</td>\n",
       "      <td>2021-09-24</td>\n",
       "      <td>2021</td>\n",
       "      <td>TV-MA</td>\n",
       "      <td>1 Season</td>\n",
       "      <td>Docuseries, Reality TV</td>\n",
       "      <td>Feuds, flirtations and toilet talk go down amo...</td>\n",
       "    </tr>\n",
       "  </tbody>\n",
       "</table>\n",
       "</div>"
      ],
      "text/plain": [
       "   show_id     type                                title   \n",
       "0       s1    Movie                 Dick Johnson Is Dead  \\\n",
       "6       s7    Movie     My Little Pony: A New Generation   \n",
       "10     s11  TV Show  Vendetta: Truth, Lies and The Mafia   \n",
       "9      s10    Movie                         The Starling   \n",
       "8       s9  TV Show        The Great British Baking Show   \n",
       "1       s2  TV Show                        Blood & Water   \n",
       "5       s6  TV Show                        Midnight Mass   \n",
       "2       s3  TV Show                            Ganglands   \n",
       "4       s5  TV Show                         Kota Factory   \n",
       "3       s4  TV Show                Jailbirds New Orleans   \n",
       "\n",
       "                         director   \n",
       "0                 Kirsten Johnson  \\\n",
       "6   Robert Cullen, José Luis Ucha   \n",
       "10                            NaN   \n",
       "9                  Theodore Melfi   \n",
       "8                 Andy Devonshire   \n",
       "1                             NaN   \n",
       "5                   Mike Flanagan   \n",
       "2                 Julien Leclercq   \n",
       "4                             NaN   \n",
       "3                             NaN   \n",
       "\n",
       "                                                 cast         country   \n",
       "0                                         Unavailable   United States  \\\n",
       "6   Vanessa Hudgens, Kimiko Glenn, James Marsden, ...             NaN   \n",
       "10                                        Unavailable             NaN   \n",
       "9   Melissa McCarthy, Chris O'Dowd, Kevin Kline, T...   United States   \n",
       "8   Mel Giedroyc, Sue Perkins, Mary Berry, Paul Ho...  United Kingdom   \n",
       "1   Ama Qamata, Khosi Ngema, Gail Mabalane, Thaban...    South Africa   \n",
       "5   Kate Siegel, Zach Gilford, Hamish Linklater, H...             NaN   \n",
       "2   Sami Bouajila, Tracy Gotoas, Samuel Jouy, Nabi...             NaN   \n",
       "4   Mayur More, Jitendra Kumar, Ranjan Raj, Alam K...           India   \n",
       "3                                         Unavailable             NaN   \n",
       "\n",
       "   date_added  release_year rating   duration   \n",
       "0  2021-09-25          2020  PG-13     90 min  \\\n",
       "6  2021-09-24          2021     PG     91 min   \n",
       "10 2021-09-24          2021  TV-MA   1 Season   \n",
       "9  2021-09-24          2021  PG-13    104 min   \n",
       "8  2021-09-24          2021  TV-14  9 Seasons   \n",
       "1  2021-09-24          2021  TV-MA  2 Seasons   \n",
       "5  2021-09-24          2021  TV-MA   1 Season   \n",
       "2  2021-09-24          2021  TV-MA   1 Season   \n",
       "4  2021-09-24          2021  TV-MA  2 Seasons   \n",
       "3  2021-09-24          2021  TV-MA   1 Season   \n",
       "\n",
       "                                            listed_in   \n",
       "0                                       Documentaries  \\\n",
       "6                            Children & Family Movies   \n",
       "10  Crime TV Shows, Docuseries, International TV S...   \n",
       "9                                    Comedies, Dramas   \n",
       "8                        British TV Shows, Reality TV   \n",
       "1     International TV Shows, TV Dramas, TV Mysteries   \n",
       "5                  TV Dramas, TV Horror, TV Mysteries   \n",
       "2   Crime TV Shows, International TV Shows, TV Act...   \n",
       "4   International TV Shows, Romantic TV Shows, TV ...   \n",
       "3                              Docuseries, Reality TV   \n",
       "\n",
       "                                          description  \n",
       "0   As her father nears the end of his life, filmm...  \n",
       "6   Equestria's divided. But a bright-eyed hero be...  \n",
       "10  Sicily boasts a bold \"Anti-Mafia\" coalition. B...  \n",
       "9   A woman adjusting to life after a loss contend...  \n",
       "8   A talented batch of amateur bakers face off in...  \n",
       "1   After crossing paths at a party, a Cape Town t...  \n",
       "5   The arrival of a charismatic young priest brin...  \n",
       "2   To protect his family from a powerful drug lor...  \n",
       "4   In a city of coaching centers known to train I...  \n",
       "3   Feuds, flirtations and toilet talk go down amo...  "
      ]
     },
     "execution_count": 283,
     "metadata": {},
     "output_type": "execute_result"
    }
   ],
   "source": [
    "data.sort_values(by=['date_added'], ascending=False).head(10)"
   ]
  },
  {
   "cell_type": "markdown",
   "id": "c175e755",
   "metadata": {},
   "source": [
    "Q2] In which year did Netflix make the highest number of releases? Plot a bar graph to represent the number of releases over the years."
   ]
  },
  {
   "cell_type": "code",
   "execution_count": 284,
   "id": "fc25d7a4",
   "metadata": {},
   "outputs": [
    {
     "name": "stdout",
     "output_type": "stream",
     "text": [
      "Number of highest releases in a year is: 1147\n"
     ]
    },
    {
     "data": {
      "image/png": "[encoded data removed]",
      "text/plain": [
       "<Figure size 640x480 with 1 Axes>"
      ]
     },
     "metadata": {},
     "output_type": "display_data"
    }
   ],
   "source": [
    "data['release_year'].value_counts().plot(kind='bar', title='Number of Releases', xlabel='Release Year', ylabel='Number of Shows')\n",
    "\n",
    "#Netflix made the highest number of releases in the year 2018. We also observe that Netflix has exponentially increased the number of releases\n",
    "#since the year 2013\n",
    "\n",
    "print(\"Number of highest releases in a year is:\", len(data[data['release_year']==2018]))"
   ]
  },
  {
   "cell_type": "markdown",
   "id": "ddf8405e",
   "metadata": {},
   "source": [
    "Q3] Graphically represent the category of the shows released of Netflix."
   ]
  },
  {
   "cell_type": "code",
   "execution_count": 285,
   "id": "89db0268",
   "metadata": {},
   "outputs": [
    {
     "name": "stdout",
     "output_type": "stream",
     "text": [
      "Categories of shows:   ['Movie' 'TV Show']\n"
     ]
    },
    {
     "data": {
      "text/plain": [
       "<Axes: title={'center': 'Categories of shows released by Netflix'}, ylabel='type'>"
      ]
     },
     "execution_count": 285,
     "metadata": {},
     "output_type": "execute_result"
    },
    {
     "data": {
      "image/png": "[encoded data removed]",
      "text/plain": [
       "<Figure size 640x480 with 1 Axes>"
      ]
     },
     "metadata": {},
     "output_type": "display_data"
    }
   ],
   "source": [
    "print(\"Categories of shows:  \", data['type'].unique())\n",
    "\n",
    "data.groupby('type').type.count().plot.pie( autopct='%.2f%%', title='Categories of shows released by Netflix', colors=['skyblue', 'yellow'])"
   ]
  },
  {
   "cell_type": "markdown",
   "id": "c927fd8f",
   "metadata": {},
   "source": [
    "Q4] Has India produced more TV shows or movies?"
   ]
  },
  {
   "cell_type": "code",
   "execution_count": 286,
   "id": "c35ff742",
   "metadata": {},
   "outputs": [
    {
     "name": "stdout",
     "output_type": "stream",
     "text": [
      "India's produces on Netflix since 2000: \n",
      " type\n",
      "Movie      812\n",
      "TV Show     79\n",
      "Name: type, dtype: int64\n",
      "\n",
      "\n",
      "India's produces on Netflix since 2014: \n",
      " type\n",
      "Movie      505\n",
      "TV Show     69\n",
      "Name: type, dtype: int64\n"
     ]
    },
    {
     "data": {
      "image/png": "[encoded data removed]",
      "text/plain": [
       "<Figure size 640x480 with 1 Axes>"
      ]
     },
     "metadata": {},
     "output_type": "display_data"
    }
   ],
   "source": [
    "count_by_india=data[data['country']=='India'].groupby('type').type.count()\n",
    "print(\"India's produces on Netflix since 2000: \\n\", count_by_india)\n",
    "\n",
    "count_by_india.plot(kind='barh', title='India\\'s produces ',  color=['orange', 'green'], ylabel='Type')\n",
    "\n",
    "#By this, we infer that India primarily produces Movies for the Netflix platform\n",
    "\n",
    "recent_count=data[(data['country']=='India') & (data['release_year']>2013)].groupby('type').type.count()\n",
    "print(\"\\n\\nIndia's produces on Netflix since 2014: \\n\", recent_count)\n",
    "\n",
    "#We also observe that out of the 79 TV shows produced by India since the year 2000, 69 were produced in the period of 2014-2021. Hence, it \n",
    "#marks the possible demand of Indian TV shows on Netflix in the future"
   ]
  },
  {
   "cell_type": "markdown",
   "id": "0987f453",
   "metadata": {},
   "source": [
    "Q5] What are the different Ratings defined by Netflix?"
   ]
  },
  {
   "cell_type": "code",
   "execution_count": 287,
   "id": "efc587f4",
   "metadata": {},
   "outputs": [
    {
     "name": "stdout",
     "output_type": "stream",
     "text": [
      "Number of unique ratings:  14\n",
      "Unique ratings:  ['PG-13' 'TV-MA' 'PG' 'TV-14' 'TV-PG' 'TV-Y' 'TV-Y7' 'R' 'TV-G' 'G'\n",
      " 'NC-17' nan 'NR' 'TV-Y7-FV' 'UR']\n"
     ]
    }
   ],
   "source": [
    "print(\"Number of unique ratings: \",data['rating'].nunique())\n",
    "print(\"Unique ratings: \", data['rating'].unique())\n",
    "\n",
    "#We see that the null value is also considered in this list. Hence, there are 14 ratings defined by Netflix."
   ]
  },
  {
   "cell_type": "markdown",
   "id": "b775ab0b",
   "metadata": {},
   "source": [
    "Q6] List the top 10 directors with highest movies and TV shows on Netflix."
   ]
  },
  {
   "cell_type": "code",
   "execution_count": 288,
   "id": "8b100879",
   "metadata": {},
   "outputs": [
    {
     "data": {
      "text/plain": [
       "director\n",
       "Rajiv Chilaka             19\n",
       "Raúl Campos, Jan Suter    18\n",
       "Suhas Kadav               16\n",
       "Marcus Raboy              16\n",
       "Jay Karas                 14\n",
       "Cathy Garcia-Molina       13\n",
       "Jay Chapman               12\n",
       "Don Michael Paul          10\n",
       "Lance Bangs                8\n",
       "Robert Rodriguez           8\n",
       "Name: count, dtype: int64"
      ]
     },
     "execution_count": 288,
     "metadata": {},
     "output_type": "execute_result"
    }
   ],
   "source": [
    "data['director'].value_counts().head(10)"
   ]
  },
  {
   "cell_type": "markdown",
   "id": "53b217be",
   "metadata": {},
   "source": [
    "Q7] Which is the longest movie available on Netflix."
   ]
  },
  {
   "cell_type": "code",
   "execution_count": 289,
   "id": "171785f8",
   "metadata": {},
   "outputs": [
    {
     "name": "stdout",
     "output_type": "stream",
     "text": [
      "Longest movie on Netflix is of  312  mins.\n"
     ]
    }
   ],
   "source": [
    "data[['value_duration', 'unit_duration']]=data['duration'].str.split(\" \", expand=True)\n",
    "data=data.astype({'value_duration': 'int'})\n",
    "print(\"Longest movie on Netflix is of \", data['value_duration'].max(), \" mins.\")"
   ]
  },
  {
   "cell_type": "markdown",
   "id": "51fed462",
   "metadata": {},
   "source": [
    "Q8] Which country has produced the maximum shows for Netflix?"
   ]
  },
  {
   "cell_type": "code",
   "execution_count": 290,
   "id": "761cc484",
   "metadata": {},
   "outputs": [
    {
     "name": "stdout",
     "output_type": "stream",
     "text": [
      "The country with highest number of shows for Netflix is  country\n",
      "United States    2573\n",
      "Name: count, dtype: int64\n"
     ]
    }
   ],
   "source": [
    "print(\"The country with highest number of shows for Netflix is \", data['country'].value_counts().head(1))"
   ]
  },
  {
   "cell_type": "markdown",
   "id": "bf9894ea",
   "metadata": {},
   "source": [
    "Q9] What is the average duration of a movie produced by the United States? Compare with India."
   ]
  },
  {
   "cell_type": "code",
   "execution_count": 291,
   "id": "96c7c316",
   "metadata": {},
   "outputs": [
    {
     "name": "stdout",
     "output_type": "stream",
     "text": [
      "Average duration of a movie produced by the United States:  89.14 mins\n",
      "Average duration of a movie produced by India:  124.21 mins\n"
     ]
    }
   ],
   "source": [
    "data_new=data[(data['country']=='United States') & (data['type']=='Movie')]\n",
    "print(\"Average duration of a movie produced by the United States: \", data_new['value_duration'].mean().round(2), \"mins\")\n",
    "\n",
    "data_new=data[(data['country']=='India') & (data['type']=='Movie')]\n",
    "print(\"Average duration of a movie produced by India: \", data_new['value_duration'].mean().round(2), \"mins\")\n",
    "\n",
    "#We observe that the duration of movies produced by India is much more than those produced by the United States on an average."
   ]
  },
  {
   "cell_type": "markdown",
   "id": "d3acf506",
   "metadata": {},
   "source": [
    "Q10] Country Analysis"
   ]
  },
  {
   "cell_type": "code",
   "execution_count": 292,
   "id": "90b18bd8",
   "metadata": {},
   "outputs": [
    {
     "data": {
      "text/plain": [
       "<Axes: title={'center': 'Movies'}, xlabel='Number of movies', ylabel='Country'>"
      ]
     },
     "execution_count": 292,
     "metadata": {},
     "output_type": "execute_result"
    },
    {
     "data": {
      "image/png": "[encoded data removed]",
      "text/plain": [
       "<Figure size 640x480 with 1 Axes>"
      ]
     },
     "metadata": {},
     "output_type": "display_data"
    }
   ],
   "source": [
    "#Below are graphical representations of produces by the top content producing countries for Netflix\n",
    "movie_count=data[data['type']=='Movie']\n",
    "tvshow_count=data[data['type']=='TV Show']\n",
    "\n",
    "movie_count['country'].value_counts().head(10).plot(kind='bar', title=\"Movies\", xlabel='Number of movies', ylabel='Country', color='pink')"
   ]
  },
  {
   "cell_type": "code",
   "execution_count": 293,
   "id": "9078d1dd",
   "metadata": {},
   "outputs": [
    {
     "data": {
      "text/plain": [
       "<Axes: title={'center': 'TV Shows'}, xlabel='Number of tv shows', ylabel='Country'>"
      ]
     },
     "execution_count": 293,
     "metadata": {},
     "output_type": "execute_result"
    },
    {
     "data": {
      "image/png": "[encoded data removed]",
      "text/plain": [
       "<Figure size 640x480 with 1 Axes>"
      ]
     },
     "metadata": {},
     "output_type": "display_data"
    }
   ],
   "source": [
    "tvshow_count['country'].value_counts().head(10).plot(kind='bar', title=\"TV Shows\", xlabel='Number of tv shows', ylabel='Country',\n",
    "                                                   color='green',stacked=False)"
   ]
  },
  {
   "cell_type": "markdown",
   "id": "9974cf62",
   "metadata": {},
   "source": [
    "### Conclusion:\n",
    "1. The records date back to the year 1925.\n",
    "2. The latest releases were mostly TV shows.\n",
    "3. Netflix made the highest number of releases in 2018.\n",
    "4. Netflix has 2 categories of shows: Movies and TV Shows.\n",
    "5. India primarily produces Movies for the Netflix platform. We also observe that out of the 79 TV shows produced by India since the year 2000, 69 were produced in the period of 2014-2021. Hence, it marks the possible demand of Indian TV shows on Netflix in the future.\n",
    "6. The top directors of Netflix include Rajiv Chilaka, Raúl Campos, Jan Suter, Suhas Kadav, Marcus Raboy and Jay Karas, with Rajiv Chilaka directing 19 shows.\n",
    "7. Longest movie on Netflix is of  312  mins.\n",
    "8. The country with highest number of shows for Netflix is United States with 2573 shows since 2000.\n",
    "9. The average duration of a movie produced by the United States was 89.14 mins while that of India was 124.21 mins. Hence, the duration of movies produced by India is much more than those produced by the United States on an average.\n",
    "10. The top countries producing movies include the United States, India, United Kingdom, Canada and Spain, while the top TV show producing countries were the US, UK, Japan, South Korea and India."
   ]
  }
 ],
 "metadata": {
  "kernelspec": {
   "display_name": "Python 3 (ipykernel)",
   "language": "python",
   "name": "python3"
  },
  "language_info": {
   "codemirror_mode": {
    "name": "ipython",
    "version": 3
   },
   "file_extension": ".py",
   "mimetype": "text/x-python",
   "name": "python",
   "nbconvert_exporter": "python",
   "pygments_lexer": "ipython3",
   "version": "3.11.0"
  }
 },
 "nbformat": 4,
 "nbformat_minor": 5
}
